{
  "nbformat": 4,
  "nbformat_minor": 0,
  "metadata": {
    "colab": {
      "provenance": [],
      "authorship_tag": "ABX9TyMpSCicPOWIv0VOquEEuIEt",
      "include_colab_link": true
    },
    "kernelspec": {
      "name": "python3",
      "display_name": "Python 3"
    },
    "language_info": {
      "name": "python"
    }
  },
  "cells": [
    {
      "cell_type": "markdown",
      "metadata": {
        "id": "view-in-github",
        "colab_type": "text"
      },
      "source": [
        "<a href=\"https://colab.research.google.com/github/sheelaj123/Introduction_To_Bloom/blob/main/Bloom_Demo_with_API.ipynb\" target=\"_parent\"><img src=\"https://colab.research.google.com/assets/colab-badge.svg\" alt=\"Open In Colab\"/></a>"
      ]
    },
    {
      "cell_type": "markdown",
      "source": [
        "# <font color=Red><b>Demonstration  of BLOOM with Infernece API #"
      ],
      "metadata": {
        "id": "mjON0-gpmTfE"
      }
    },
    {
      "cell_type": "markdown",
      "source": [
        "<font color=Blue><b>To use BLOOM model hosted in Hugging face: follow the below steps:\n",
        "1. Sign-up to Hugging face website: https://huggingface.co/\n",
        "2. Generate BLOOM Inference API token:https://huggingface.co/bigscience/bloom\n",
        "3. CLick 'Deploy' option-> inference API.\n",
        "Toke get generated. Copy it to use in the below code.\n"
      ],
      "metadata": {
        "id": "qt70mCUgmlmd"
      }
    },
    {
      "cell_type": "code",
      "execution_count": 2,
      "metadata": {
        "id": "ZKI4WFDXmHzv"
      },
      "outputs": [],
      "source": [
        "API_URL = \"https://api-inference.huggingface.co/models/bigscience/bloom\""
      ]
    },
    {
      "cell_type": "code",
      "source": [
        "import requests\n",
        "from getpass import getpass\n",
        "#getpass() is a Python code to read the text in encrypted form\n",
        "TOKEN=getpass()\n",
        "#Enter the token generated from BLOOM as: Bearer ................................\n",
        "\n",
        "headers = {\"Authorization\": TOKEN}\n",
        "\n",
        "def query(payload):\n",
        "  response = requests.post(API_URL, headers=headers, json=payload)\n",
        "  return response.json()\n"
      ],
      "metadata": {
        "colab": {
          "base_uri": "https://localhost:8080/"
        },
        "id": "y5XqQM4rmxnc",
        "outputId": "5567bee1-e868-4ce3-869a-6061a4d4a8a0"
      },
      "execution_count": 3,
      "outputs": [
        {
          "name": "stdout",
          "output_type": "stream",
          "text": [
            "··········\n"
          ]
        }
      ]
    },
    {
      "cell_type": "code",
      "source": [
        "prompt1 = \"Infosys is a Great Company and  \"\n",
        "\n",
        "output = query({\"inputs\": prompt1, \"parameters\": {\"max_new_tokens\": 10, \"return_full_text\": False}})\n",
        "print(output)"
      ],
      "metadata": {
        "colab": {
          "base_uri": "https://localhost:8080/"
        },
        "id": "cx-V6QRam_fI",
        "outputId": "95946570-f5a4-48de-b3a3-6fc42daa04c6"
      },
      "execution_count": 4,
      "outputs": [
        {
          "output_type": "stream",
          "name": "stdout",
          "text": [
            "[{'generated_text': ' I am very happy to be a part of it'}]\n"
          ]
        }
      ]
    },
    {
      "cell_type": "code",
      "source": [
        "prompt2=input()\n",
        "print(query({\"inputs\":prompt2,\"parameters\":{\"max_new_tokens\":6, \"return_full_text\":False}}))"
      ],
      "metadata": {
        "colab": {
          "base_uri": "https://localhost:8080/"
        },
        "id": "47685LIunOnL",
        "outputId": "f2b77a6b-1136-47e7-c9ff-18ae6e4c35f8"
      },
      "execution_count": 7,
      "outputs": [
        {
          "output_type": "stream",
          "name": "stdout",
          "text": [
            "capital of india is delhi, then what is capital of nepal \n",
            "[{'generated_text': '？\" 答案: katmand'}]\n"
          ]
        }
      ]
    },
    {
      "cell_type": "markdown",
      "source": [
        "#<font color=sky-blue>End of Notes here, Thanks for visiting..<> happy learning"
      ],
      "metadata": {
        "id": "XsHI3a9-nvC8"
      }
    }
  ]
}